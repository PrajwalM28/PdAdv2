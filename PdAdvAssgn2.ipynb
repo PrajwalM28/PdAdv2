{
 "cells": [
  {
   "cell_type": "markdown",
   "id": "3147cf8b-0296-415b-8816-1b76f1304601",
   "metadata": {},
   "source": [
    "# Q1."
   ]
  },
  {
   "cell_type": "code",
   "execution_count": 1,
   "id": "8bc30481-30cf-4936-9c93-687f9a3f7390",
   "metadata": {},
   "outputs": [],
   "source": [
    "import pandas as pd\n",
    "course_name = ['Data Science', 'Machine Learning', 'Big Data','Data Engineer']\n",
    "duration = [2,3,6,4]\n",
    "\n",
    "df = pd.DataFrame(data = {'course_name' : course_name, 'duration' : duration})"
   ]
  },
  {
   "cell_type": "code",
   "execution_count": 2,
   "id": "602a8039-3167-401b-9593-b57a515b0009",
   "metadata": {},
   "outputs": [
    {
     "data": {
      "text/html": [
       "<div>\n",
       "<style scoped>\n",
       "    .dataframe tbody tr th:only-of-type {\n",
       "        vertical-align: middle;\n",
       "    }\n",
       "\n",
       "    .dataframe tbody tr th {\n",
       "        vertical-align: top;\n",
       "    }\n",
       "\n",
       "    .dataframe thead th {\n",
       "        text-align: right;\n",
       "    }\n",
       "</style>\n",
       "<table border=\"1\" class=\"dataframe\">\n",
       "  <thead>\n",
       "    <tr style=\"text-align: right;\">\n",
       "      <th></th>\n",
       "      <th>course_name</th>\n",
       "      <th>duration</th>\n",
       "    </tr>\n",
       "  </thead>\n",
       "  <tbody>\n",
       "    <tr>\n",
       "      <th>0</th>\n",
       "      <td>Data Science</td>\n",
       "      <td>2</td>\n",
       "    </tr>\n",
       "    <tr>\n",
       "      <th>1</th>\n",
       "      <td>Machine Learning</td>\n",
       "      <td>3</td>\n",
       "    </tr>\n",
       "    <tr>\n",
       "      <th>2</th>\n",
       "      <td>Big Data</td>\n",
       "      <td>6</td>\n",
       "    </tr>\n",
       "    <tr>\n",
       "      <th>3</th>\n",
       "      <td>Data Engineer</td>\n",
       "      <td>4</td>\n",
       "    </tr>\n",
       "  </tbody>\n",
       "</table>\n",
       "</div>"
      ],
      "text/plain": [
       "        course_name  duration\n",
       "0      Data Science         2\n",
       "1  Machine Learning         3\n",
       "2          Big Data         6\n",
       "3     Data Engineer         4"
      ]
     },
     "execution_count": 2,
     "metadata": {},
     "output_type": "execute_result"
    }
   ],
   "source": [
    "df"
   ]
  },
  {
   "cell_type": "code",
   "execution_count": 11,
   "id": "42784921-dbe7-4e01-b3da-172151259036",
   "metadata": {},
   "outputs": [
    {
     "data": {
      "text/plain": [
       "course_name    Machine Learning\n",
       "duration                      3\n",
       "Name: 1, dtype: object"
      ]
     },
     "execution_count": 11,
     "metadata": {},
     "output_type": "execute_result"
    }
   ],
   "source": [
    "df.iloc[1]"
   ]
  },
  {
   "cell_type": "markdown",
   "id": "1b3376af-5ed9-43f4-ab59-767245575a45",
   "metadata": {},
   "source": [
    "# Q2."
   ]
  },
  {
   "cell_type": "markdown",
   "id": "7bd7d1f8-0d61-40c7-9c3d-a6594cdc0ac3",
   "metadata": {},
   "source": [
    "\"\"\"\n",
    " - loc : \n",
    "    - loc is primarily label-based indexing, meaning that you use the actual labels of the index and columns to select data. It is inclusive of both the start and stop indices.\n",
    "    \n",
    " - iloc : \n",
    "    - iloc is integer-location based indexing, and it is used when you want to access a group of rows and columns by integer position. It is exclusive of the stop index.\n",
    "    \n",
    "    \n",
    "    \"\"\"\n",
    "    \n",
    "    "
   ]
  },
  {
   "cell_type": "code",
   "execution_count": 17,
   "id": "71a72c8f-8581-4f26-af6d-1cdb4979b7cb",
   "metadata": {},
   "outputs": [],
   "source": [
    "new_df = df.reindex([3,0,1,2])"
   ]
  },
  {
   "cell_type": "code",
   "execution_count": 18,
   "id": "10e3bfbf-a693-49b3-bbab-15d07b9f26c0",
   "metadata": {},
   "outputs": [
    {
     "data": {
      "text/html": [
       "<div>\n",
       "<style scoped>\n",
       "    .dataframe tbody tr th:only-of-type {\n",
       "        vertical-align: middle;\n",
       "    }\n",
       "\n",
       "    .dataframe tbody tr th {\n",
       "        vertical-align: top;\n",
       "    }\n",
       "\n",
       "    .dataframe thead th {\n",
       "        text-align: right;\n",
       "    }\n",
       "</style>\n",
       "<table border=\"1\" class=\"dataframe\">\n",
       "  <thead>\n",
       "    <tr style=\"text-align: right;\">\n",
       "      <th></th>\n",
       "      <th>course_name</th>\n",
       "      <th>duration</th>\n",
       "    </tr>\n",
       "  </thead>\n",
       "  <tbody>\n",
       "    <tr>\n",
       "      <th>3</th>\n",
       "      <td>Data Engineer</td>\n",
       "      <td>4</td>\n",
       "    </tr>\n",
       "    <tr>\n",
       "      <th>0</th>\n",
       "      <td>Data Science</td>\n",
       "      <td>2</td>\n",
       "    </tr>\n",
       "    <tr>\n",
       "      <th>1</th>\n",
       "      <td>Machine Learning</td>\n",
       "      <td>3</td>\n",
       "    </tr>\n",
       "    <tr>\n",
       "      <th>2</th>\n",
       "      <td>Big Data</td>\n",
       "      <td>6</td>\n",
       "    </tr>\n",
       "  </tbody>\n",
       "</table>\n",
       "</div>"
      ],
      "text/plain": [
       "        course_name  duration\n",
       "3     Data Engineer         4\n",
       "0      Data Science         2\n",
       "1  Machine Learning         3\n",
       "2          Big Data         6"
      ]
     },
     "execution_count": 18,
     "metadata": {},
     "output_type": "execute_result"
    }
   ],
   "source": [
    "new_df"
   ]
  },
  {
   "cell_type": "code",
   "execution_count": 19,
   "id": "d5be9c1d-ca3f-4102-a13c-74c809bd37a6",
   "metadata": {},
   "outputs": [
    {
     "data": {
      "text/plain": [
       "course_name    Big Data\n",
       "duration              6\n",
       "Name: 2, dtype: object"
      ]
     },
     "execution_count": 19,
     "metadata": {},
     "output_type": "execute_result"
    }
   ],
   "source": [
    "new_df.loc[2]"
   ]
  },
  {
   "cell_type": "code",
   "execution_count": 20,
   "id": "769a63f9-9cad-4532-8450-4545b0a1c192",
   "metadata": {},
   "outputs": [
    {
     "data": {
      "text/plain": [
       "course_name    Machine Learning\n",
       "duration                      3\n",
       "Name: 1, dtype: object"
      ]
     },
     "execution_count": 20,
     "metadata": {},
     "output_type": "execute_result"
    }
   ],
   "source": [
    "new_df.iloc[2]"
   ]
  },
  {
   "cell_type": "markdown",
   "id": "30199445-96b6-4f81-9abf-0cac3107460f",
   "metadata": {},
   "source": [
    "\"\"\"\n",
    " - Yeah , there's difference in both the outputs.\n",
    " - loc is labelled based indexing\n",
    " - iloc is integer location based indexing.\n",
    " \n",
    "\"\"\""
   ]
  },
  {
   "cell_type": "markdown",
   "id": "83b1dc70-29ae-4502-a4b0-4776542993aa",
   "metadata": {},
   "source": [
    "# Q4."
   ]
  },
  {
   "cell_type": "code",
   "execution_count": 22,
   "id": "4821a327-e6b5-451d-8d9c-8ae22701bc3b",
   "metadata": {},
   "outputs": [],
   "source": [
    "import numpy as np\n",
    "\n",
    "columns = ['column_1','column_2','column_3','column_4','column_5','column_6']\n",
    "indices = [1,2,3,4,5,6]\n",
    "\n",
    "df1 = pd.DataFrame(np.random.rand(6,6), columns = columns, index = indices)"
   ]
  },
  {
   "cell_type": "code",
   "execution_count": 23,
   "id": "666a99a2-a2e1-4686-a450-bd390498432d",
   "metadata": {},
   "outputs": [
    {
     "data": {
      "text/html": [
       "<div>\n",
       "<style scoped>\n",
       "    .dataframe tbody tr th:only-of-type {\n",
       "        vertical-align: middle;\n",
       "    }\n",
       "\n",
       "    .dataframe tbody tr th {\n",
       "        vertical-align: top;\n",
       "    }\n",
       "\n",
       "    .dataframe thead th {\n",
       "        text-align: right;\n",
       "    }\n",
       "</style>\n",
       "<table border=\"1\" class=\"dataframe\">\n",
       "  <thead>\n",
       "    <tr style=\"text-align: right;\">\n",
       "      <th></th>\n",
       "      <th>column_1</th>\n",
       "      <th>column_2</th>\n",
       "      <th>column_3</th>\n",
       "      <th>column_4</th>\n",
       "      <th>column_5</th>\n",
       "      <th>column_6</th>\n",
       "    </tr>\n",
       "  </thead>\n",
       "  <tbody>\n",
       "    <tr>\n",
       "      <th>1</th>\n",
       "      <td>0.317013</td>\n",
       "      <td>0.703714</td>\n",
       "      <td>0.203276</td>\n",
       "      <td>0.613538</td>\n",
       "      <td>0.557146</td>\n",
       "      <td>0.842089</td>\n",
       "    </tr>\n",
       "    <tr>\n",
       "      <th>2</th>\n",
       "      <td>0.377903</td>\n",
       "      <td>0.981643</td>\n",
       "      <td>0.664496</td>\n",
       "      <td>0.110976</td>\n",
       "      <td>0.207755</td>\n",
       "      <td>0.756048</td>\n",
       "    </tr>\n",
       "    <tr>\n",
       "      <th>3</th>\n",
       "      <td>0.602078</td>\n",
       "      <td>0.359350</td>\n",
       "      <td>0.647249</td>\n",
       "      <td>0.114877</td>\n",
       "      <td>0.787495</td>\n",
       "      <td>0.960312</td>\n",
       "    </tr>\n",
       "    <tr>\n",
       "      <th>4</th>\n",
       "      <td>0.023190</td>\n",
       "      <td>0.276299</td>\n",
       "      <td>0.860943</td>\n",
       "      <td>0.013986</td>\n",
       "      <td>0.045112</td>\n",
       "      <td>0.590341</td>\n",
       "    </tr>\n",
       "    <tr>\n",
       "      <th>5</th>\n",
       "      <td>0.046298</td>\n",
       "      <td>0.643201</td>\n",
       "      <td>0.487872</td>\n",
       "      <td>0.079799</td>\n",
       "      <td>0.439049</td>\n",
       "      <td>0.528111</td>\n",
       "    </tr>\n",
       "    <tr>\n",
       "      <th>6</th>\n",
       "      <td>0.817901</td>\n",
       "      <td>0.837246</td>\n",
       "      <td>0.415202</td>\n",
       "      <td>0.452625</td>\n",
       "      <td>0.582432</td>\n",
       "      <td>0.794173</td>\n",
       "    </tr>\n",
       "  </tbody>\n",
       "</table>\n",
       "</div>"
      ],
      "text/plain": [
       "   column_1  column_2  column_3  column_4  column_5  column_6\n",
       "1  0.317013  0.703714  0.203276  0.613538  0.557146  0.842089\n",
       "2  0.377903  0.981643  0.664496  0.110976  0.207755  0.756048\n",
       "3  0.602078  0.359350  0.647249  0.114877  0.787495  0.960312\n",
       "4  0.023190  0.276299  0.860943  0.013986  0.045112  0.590341\n",
       "5  0.046298  0.643201  0.487872  0.079799  0.439049  0.528111\n",
       "6  0.817901  0.837246  0.415202  0.452625  0.582432  0.794173"
      ]
     },
     "execution_count": 23,
     "metadata": {},
     "output_type": "execute_result"
    }
   ],
   "source": [
    "df1"
   ]
  },
  {
   "cell_type": "code",
   "execution_count": 24,
   "id": "0ed7211a-0811-41ed-9495-832d9e1c62c3",
   "metadata": {},
   "outputs": [
    {
     "data": {
      "text/plain": [
       "column_1    0.364064\n",
       "column_2    0.633575\n",
       "column_3    0.546506\n",
       "column_4    0.230967\n",
       "column_5    0.436498\n",
       "column_6    0.745179\n",
       "dtype: float64"
      ]
     },
     "execution_count": 24,
     "metadata": {},
     "output_type": "execute_result"
    }
   ],
   "source": [
    "df1.mean()"
   ]
  },
  {
   "cell_type": "code",
   "execution_count": 27,
   "id": "df06fe90-0c77-49f9-a933-16b6b5676d94",
   "metadata": {},
   "outputs": [
    {
     "data": {
      "text/plain": [
       "0.27220996656039653"
      ]
     },
     "execution_count": 27,
     "metadata": {},
     "output_type": "execute_result"
    }
   ],
   "source": [
    "df1['column_2'].std()"
   ]
  },
  {
   "cell_type": "markdown",
   "id": "e0cda745-c2b1-4dc1-aa13-2c92b0af05d2",
   "metadata": {},
   "source": [
    "# Q5."
   ]
  },
  {
   "cell_type": "code",
   "execution_count": 28,
   "id": "fce072b5-e5a8-41e7-8aec-39f44e4638b2",
   "metadata": {},
   "outputs": [],
   "source": [
    "df1.loc[2,'column_2'] = 'string'"
   ]
  },
  {
   "cell_type": "code",
   "execution_count": 29,
   "id": "f6456f9d-e9bb-4833-aee4-cb02b2b15526",
   "metadata": {},
   "outputs": [
    {
     "data": {
      "text/html": [
       "<div>\n",
       "<style scoped>\n",
       "    .dataframe tbody tr th:only-of-type {\n",
       "        vertical-align: middle;\n",
       "    }\n",
       "\n",
       "    .dataframe tbody tr th {\n",
       "        vertical-align: top;\n",
       "    }\n",
       "\n",
       "    .dataframe thead th {\n",
       "        text-align: right;\n",
       "    }\n",
       "</style>\n",
       "<table border=\"1\" class=\"dataframe\">\n",
       "  <thead>\n",
       "    <tr style=\"text-align: right;\">\n",
       "      <th></th>\n",
       "      <th>column_1</th>\n",
       "      <th>column_2</th>\n",
       "      <th>column_3</th>\n",
       "      <th>column_4</th>\n",
       "      <th>column_5</th>\n",
       "      <th>column_6</th>\n",
       "    </tr>\n",
       "  </thead>\n",
       "  <tbody>\n",
       "    <tr>\n",
       "      <th>1</th>\n",
       "      <td>0.317013</td>\n",
       "      <td>0.703714</td>\n",
       "      <td>0.203276</td>\n",
       "      <td>0.613538</td>\n",
       "      <td>0.557146</td>\n",
       "      <td>0.842089</td>\n",
       "    </tr>\n",
       "    <tr>\n",
       "      <th>2</th>\n",
       "      <td>0.377903</td>\n",
       "      <td>string</td>\n",
       "      <td>0.664496</td>\n",
       "      <td>0.110976</td>\n",
       "      <td>0.207755</td>\n",
       "      <td>0.756048</td>\n",
       "    </tr>\n",
       "    <tr>\n",
       "      <th>3</th>\n",
       "      <td>0.602078</td>\n",
       "      <td>0.35935</td>\n",
       "      <td>0.647249</td>\n",
       "      <td>0.114877</td>\n",
       "      <td>0.787495</td>\n",
       "      <td>0.960312</td>\n",
       "    </tr>\n",
       "    <tr>\n",
       "      <th>4</th>\n",
       "      <td>0.023190</td>\n",
       "      <td>0.276299</td>\n",
       "      <td>0.860943</td>\n",
       "      <td>0.013986</td>\n",
       "      <td>0.045112</td>\n",
       "      <td>0.590341</td>\n",
       "    </tr>\n",
       "    <tr>\n",
       "      <th>5</th>\n",
       "      <td>0.046298</td>\n",
       "      <td>0.643201</td>\n",
       "      <td>0.487872</td>\n",
       "      <td>0.079799</td>\n",
       "      <td>0.439049</td>\n",
       "      <td>0.528111</td>\n",
       "    </tr>\n",
       "    <tr>\n",
       "      <th>6</th>\n",
       "      <td>0.817901</td>\n",
       "      <td>0.837246</td>\n",
       "      <td>0.415202</td>\n",
       "      <td>0.452625</td>\n",
       "      <td>0.582432</td>\n",
       "      <td>0.794173</td>\n",
       "    </tr>\n",
       "  </tbody>\n",
       "</table>\n",
       "</div>"
      ],
      "text/plain": [
       "   column_1  column_2  column_3  column_4  column_5  column_6\n",
       "1  0.317013  0.703714  0.203276  0.613538  0.557146  0.842089\n",
       "2  0.377903    string  0.664496  0.110976  0.207755  0.756048\n",
       "3  0.602078   0.35935  0.647249  0.114877  0.787495  0.960312\n",
       "4  0.023190  0.276299  0.860943  0.013986  0.045112  0.590341\n",
       "5  0.046298  0.643201  0.487872  0.079799  0.439049  0.528111\n",
       "6  0.817901  0.837246  0.415202  0.452625  0.582432  0.794173"
      ]
     },
     "execution_count": 29,
     "metadata": {},
     "output_type": "execute_result"
    }
   ],
   "source": [
    "df1"
   ]
  },
  {
   "cell_type": "code",
   "execution_count": 30,
   "id": "c18a1c02-01e8-4011-b1ed-41f86ccda560",
   "metadata": {},
   "outputs": [
    {
     "ename": "TypeError",
     "evalue": "unsupported operand type(s) for +: 'float' and 'str'",
     "output_type": "error",
     "traceback": [
      "\u001b[0;31m---------------------------------------------------------------------------\u001b[0m",
      "\u001b[0;31mTypeError\u001b[0m                                 Traceback (most recent call last)",
      "Cell \u001b[0;32mIn[30], line 1\u001b[0m\n\u001b[0;32m----> 1\u001b[0m \u001b[43mdf1\u001b[49m\u001b[43m[\u001b[49m\u001b[38;5;124;43m'\u001b[39;49m\u001b[38;5;124;43mcolumn_2\u001b[39;49m\u001b[38;5;124;43m'\u001b[39;49m\u001b[43m]\u001b[49m\u001b[38;5;241;43m.\u001b[39;49m\u001b[43mmean\u001b[49m\u001b[43m(\u001b[49m\u001b[43m)\u001b[49m\n",
      "File \u001b[0;32m/opt/conda/lib/python3.10/site-packages/pandas/core/generic.py:11847\u001b[0m, in \u001b[0;36mNDFrame._add_numeric_operations.<locals>.mean\u001b[0;34m(self, axis, skipna, level, numeric_only, **kwargs)\u001b[0m\n\u001b[1;32m  11829\u001b[0m \u001b[38;5;129m@doc\u001b[39m(\n\u001b[1;32m  11830\u001b[0m     _num_doc,\n\u001b[1;32m  11831\u001b[0m     desc\u001b[38;5;241m=\u001b[39m\u001b[38;5;124m\"\u001b[39m\u001b[38;5;124mReturn the mean of the values over the requested axis.\u001b[39m\u001b[38;5;124m\"\u001b[39m,\n\u001b[0;32m   (...)\u001b[0m\n\u001b[1;32m  11845\u001b[0m     \u001b[38;5;241m*\u001b[39m\u001b[38;5;241m*\u001b[39mkwargs,\n\u001b[1;32m  11846\u001b[0m ):\n\u001b[0;32m> 11847\u001b[0m     \u001b[38;5;28;01mreturn\u001b[39;00m \u001b[43mNDFrame\u001b[49m\u001b[38;5;241;43m.\u001b[39;49m\u001b[43mmean\u001b[49m\u001b[43m(\u001b[49m\u001b[38;5;28;43mself\u001b[39;49m\u001b[43m,\u001b[49m\u001b[43m \u001b[49m\u001b[43maxis\u001b[49m\u001b[43m,\u001b[49m\u001b[43m \u001b[49m\u001b[43mskipna\u001b[49m\u001b[43m,\u001b[49m\u001b[43m \u001b[49m\u001b[43mlevel\u001b[49m\u001b[43m,\u001b[49m\u001b[43m \u001b[49m\u001b[43mnumeric_only\u001b[49m\u001b[43m,\u001b[49m\u001b[43m \u001b[49m\u001b[38;5;241;43m*\u001b[39;49m\u001b[38;5;241;43m*\u001b[39;49m\u001b[43mkwargs\u001b[49m\u001b[43m)\u001b[49m\n",
      "File \u001b[0;32m/opt/conda/lib/python3.10/site-packages/pandas/core/generic.py:11401\u001b[0m, in \u001b[0;36mNDFrame.mean\u001b[0;34m(self, axis, skipna, level, numeric_only, **kwargs)\u001b[0m\n\u001b[1;32m  11393\u001b[0m \u001b[38;5;28;01mdef\u001b[39;00m \u001b[38;5;21mmean\u001b[39m(\n\u001b[1;32m  11394\u001b[0m     \u001b[38;5;28mself\u001b[39m,\n\u001b[1;32m  11395\u001b[0m     axis: Axis \u001b[38;5;241m|\u001b[39m \u001b[38;5;28;01mNone\u001b[39;00m \u001b[38;5;241m|\u001b[39m lib\u001b[38;5;241m.\u001b[39mNoDefault \u001b[38;5;241m=\u001b[39m lib\u001b[38;5;241m.\u001b[39mno_default,\n\u001b[0;32m   (...)\u001b[0m\n\u001b[1;32m  11399\u001b[0m     \u001b[38;5;241m*\u001b[39m\u001b[38;5;241m*\u001b[39mkwargs,\n\u001b[1;32m  11400\u001b[0m ) \u001b[38;5;241m-\u001b[39m\u001b[38;5;241m>\u001b[39m Series \u001b[38;5;241m|\u001b[39m \u001b[38;5;28mfloat\u001b[39m:\n\u001b[0;32m> 11401\u001b[0m     \u001b[38;5;28;01mreturn\u001b[39;00m \u001b[38;5;28;43mself\u001b[39;49m\u001b[38;5;241;43m.\u001b[39;49m\u001b[43m_stat_function\u001b[49m\u001b[43m(\u001b[49m\n\u001b[1;32m  11402\u001b[0m \u001b[43m        \u001b[49m\u001b[38;5;124;43m\"\u001b[39;49m\u001b[38;5;124;43mmean\u001b[39;49m\u001b[38;5;124;43m\"\u001b[39;49m\u001b[43m,\u001b[49m\u001b[43m \u001b[49m\u001b[43mnanops\u001b[49m\u001b[38;5;241;43m.\u001b[39;49m\u001b[43mnanmean\u001b[49m\u001b[43m,\u001b[49m\u001b[43m \u001b[49m\u001b[43maxis\u001b[49m\u001b[43m,\u001b[49m\u001b[43m \u001b[49m\u001b[43mskipna\u001b[49m\u001b[43m,\u001b[49m\u001b[43m \u001b[49m\u001b[43mlevel\u001b[49m\u001b[43m,\u001b[49m\u001b[43m \u001b[49m\u001b[43mnumeric_only\u001b[49m\u001b[43m,\u001b[49m\u001b[43m \u001b[49m\u001b[38;5;241;43m*\u001b[39;49m\u001b[38;5;241;43m*\u001b[39;49m\u001b[43mkwargs\u001b[49m\n\u001b[1;32m  11403\u001b[0m \u001b[43m    \u001b[49m\u001b[43m)\u001b[49m\n",
      "File \u001b[0;32m/opt/conda/lib/python3.10/site-packages/pandas/core/generic.py:11353\u001b[0m, in \u001b[0;36mNDFrame._stat_function\u001b[0;34m(self, name, func, axis, skipna, level, numeric_only, **kwargs)\u001b[0m\n\u001b[1;32m  11343\u001b[0m     warnings\u001b[38;5;241m.\u001b[39mwarn(\n\u001b[1;32m  11344\u001b[0m         \u001b[38;5;124m\"\u001b[39m\u001b[38;5;124mUsing the level keyword in DataFrame and Series aggregations is \u001b[39m\u001b[38;5;124m\"\u001b[39m\n\u001b[1;32m  11345\u001b[0m         \u001b[38;5;124m\"\u001b[39m\u001b[38;5;124mdeprecated and will be removed in a future version. Use groupby \u001b[39m\u001b[38;5;124m\"\u001b[39m\n\u001b[0;32m   (...)\u001b[0m\n\u001b[1;32m  11348\u001b[0m         stacklevel\u001b[38;5;241m=\u001b[39mfind_stack_level(),\n\u001b[1;32m  11349\u001b[0m     )\n\u001b[1;32m  11350\u001b[0m     \u001b[38;5;28;01mreturn\u001b[39;00m \u001b[38;5;28mself\u001b[39m\u001b[38;5;241m.\u001b[39m_agg_by_level(\n\u001b[1;32m  11351\u001b[0m         name, axis\u001b[38;5;241m=\u001b[39maxis, level\u001b[38;5;241m=\u001b[39mlevel, skipna\u001b[38;5;241m=\u001b[39mskipna, numeric_only\u001b[38;5;241m=\u001b[39mnumeric_only\n\u001b[1;32m  11352\u001b[0m     )\n\u001b[0;32m> 11353\u001b[0m \u001b[38;5;28;01mreturn\u001b[39;00m \u001b[38;5;28;43mself\u001b[39;49m\u001b[38;5;241;43m.\u001b[39;49m\u001b[43m_reduce\u001b[49m\u001b[43m(\u001b[49m\n\u001b[1;32m  11354\u001b[0m \u001b[43m    \u001b[49m\u001b[43mfunc\u001b[49m\u001b[43m,\u001b[49m\u001b[43m \u001b[49m\u001b[43mname\u001b[49m\u001b[38;5;241;43m=\u001b[39;49m\u001b[43mname\u001b[49m\u001b[43m,\u001b[49m\u001b[43m \u001b[49m\u001b[43maxis\u001b[49m\u001b[38;5;241;43m=\u001b[39;49m\u001b[43maxis\u001b[49m\u001b[43m,\u001b[49m\u001b[43m \u001b[49m\u001b[43mskipna\u001b[49m\u001b[38;5;241;43m=\u001b[39;49m\u001b[43mskipna\u001b[49m\u001b[43m,\u001b[49m\u001b[43m \u001b[49m\u001b[43mnumeric_only\u001b[49m\u001b[38;5;241;43m=\u001b[39;49m\u001b[43mnumeric_only\u001b[49m\n\u001b[1;32m  11355\u001b[0m \u001b[43m\u001b[49m\u001b[43m)\u001b[49m\n",
      "File \u001b[0;32m/opt/conda/lib/python3.10/site-packages/pandas/core/series.py:4816\u001b[0m, in \u001b[0;36mSeries._reduce\u001b[0;34m(self, op, name, axis, skipna, numeric_only, filter_type, **kwds)\u001b[0m\n\u001b[1;32m   4812\u001b[0m     \u001b[38;5;28;01mraise\u001b[39;00m \u001b[38;5;167;01mNotImplementedError\u001b[39;00m(\n\u001b[1;32m   4813\u001b[0m         \u001b[38;5;124mf\u001b[39m\u001b[38;5;124m\"\u001b[39m\u001b[38;5;124mSeries.\u001b[39m\u001b[38;5;132;01m{\u001b[39;00mname\u001b[38;5;132;01m}\u001b[39;00m\u001b[38;5;124m does not implement \u001b[39m\u001b[38;5;132;01m{\u001b[39;00mkwd_name\u001b[38;5;132;01m}\u001b[39;00m\u001b[38;5;124m.\u001b[39m\u001b[38;5;124m\"\u001b[39m\n\u001b[1;32m   4814\u001b[0m     )\n\u001b[1;32m   4815\u001b[0m \u001b[38;5;28;01mwith\u001b[39;00m np\u001b[38;5;241m.\u001b[39merrstate(\u001b[38;5;28mall\u001b[39m\u001b[38;5;241m=\u001b[39m\u001b[38;5;124m\"\u001b[39m\u001b[38;5;124mignore\u001b[39m\u001b[38;5;124m\"\u001b[39m):\n\u001b[0;32m-> 4816\u001b[0m     \u001b[38;5;28;01mreturn\u001b[39;00m \u001b[43mop\u001b[49m\u001b[43m(\u001b[49m\u001b[43mdelegate\u001b[49m\u001b[43m,\u001b[49m\u001b[43m \u001b[49m\u001b[43mskipna\u001b[49m\u001b[38;5;241;43m=\u001b[39;49m\u001b[43mskipna\u001b[49m\u001b[43m,\u001b[49m\u001b[43m \u001b[49m\u001b[38;5;241;43m*\u001b[39;49m\u001b[38;5;241;43m*\u001b[39;49m\u001b[43mkwds\u001b[49m\u001b[43m)\u001b[49m\n",
      "File \u001b[0;32m/opt/conda/lib/python3.10/site-packages/pandas/core/nanops.py:93\u001b[0m, in \u001b[0;36mdisallow.__call__.<locals>._f\u001b[0;34m(*args, **kwargs)\u001b[0m\n\u001b[1;32m     91\u001b[0m \u001b[38;5;28;01mtry\u001b[39;00m:\n\u001b[1;32m     92\u001b[0m     \u001b[38;5;28;01mwith\u001b[39;00m np\u001b[38;5;241m.\u001b[39merrstate(invalid\u001b[38;5;241m=\u001b[39m\u001b[38;5;124m\"\u001b[39m\u001b[38;5;124mignore\u001b[39m\u001b[38;5;124m\"\u001b[39m):\n\u001b[0;32m---> 93\u001b[0m         \u001b[38;5;28;01mreturn\u001b[39;00m \u001b[43mf\u001b[49m\u001b[43m(\u001b[49m\u001b[38;5;241;43m*\u001b[39;49m\u001b[43margs\u001b[49m\u001b[43m,\u001b[49m\u001b[43m \u001b[49m\u001b[38;5;241;43m*\u001b[39;49m\u001b[38;5;241;43m*\u001b[39;49m\u001b[43mkwargs\u001b[49m\u001b[43m)\u001b[49m\n\u001b[1;32m     94\u001b[0m \u001b[38;5;28;01mexcept\u001b[39;00m \u001b[38;5;167;01mValueError\u001b[39;00m \u001b[38;5;28;01mas\u001b[39;00m e:\n\u001b[1;32m     95\u001b[0m     \u001b[38;5;66;03m# we want to transform an object array\u001b[39;00m\n\u001b[1;32m     96\u001b[0m     \u001b[38;5;66;03m# ValueError message to the more typical TypeError\u001b[39;00m\n\u001b[1;32m     97\u001b[0m     \u001b[38;5;66;03m# e.g. this is normally a disallowed function on\u001b[39;00m\n\u001b[1;32m     98\u001b[0m     \u001b[38;5;66;03m# object arrays that contain strings\u001b[39;00m\n\u001b[1;32m     99\u001b[0m     \u001b[38;5;28;01mif\u001b[39;00m is_object_dtype(args[\u001b[38;5;241m0\u001b[39m]):\n",
      "File \u001b[0;32m/opt/conda/lib/python3.10/site-packages/pandas/core/nanops.py:155\u001b[0m, in \u001b[0;36mbottleneck_switch.__call__.<locals>.f\u001b[0;34m(values, axis, skipna, **kwds)\u001b[0m\n\u001b[1;32m    153\u001b[0m         result \u001b[38;5;241m=\u001b[39m alt(values, axis\u001b[38;5;241m=\u001b[39maxis, skipna\u001b[38;5;241m=\u001b[39mskipna, \u001b[38;5;241m*\u001b[39m\u001b[38;5;241m*\u001b[39mkwds)\n\u001b[1;32m    154\u001b[0m \u001b[38;5;28;01melse\u001b[39;00m:\n\u001b[0;32m--> 155\u001b[0m     result \u001b[38;5;241m=\u001b[39m \u001b[43malt\u001b[49m\u001b[43m(\u001b[49m\u001b[43mvalues\u001b[49m\u001b[43m,\u001b[49m\u001b[43m \u001b[49m\u001b[43maxis\u001b[49m\u001b[38;5;241;43m=\u001b[39;49m\u001b[43maxis\u001b[49m\u001b[43m,\u001b[49m\u001b[43m \u001b[49m\u001b[43mskipna\u001b[49m\u001b[38;5;241;43m=\u001b[39;49m\u001b[43mskipna\u001b[49m\u001b[43m,\u001b[49m\u001b[43m \u001b[49m\u001b[38;5;241;43m*\u001b[39;49m\u001b[38;5;241;43m*\u001b[39;49m\u001b[43mkwds\u001b[49m\u001b[43m)\u001b[49m\n\u001b[1;32m    157\u001b[0m \u001b[38;5;28;01mreturn\u001b[39;00m result\n",
      "File \u001b[0;32m/opt/conda/lib/python3.10/site-packages/pandas/core/nanops.py:418\u001b[0m, in \u001b[0;36m_datetimelike_compat.<locals>.new_func\u001b[0;34m(values, axis, skipna, mask, **kwargs)\u001b[0m\n\u001b[1;32m    415\u001b[0m \u001b[38;5;28;01mif\u001b[39;00m datetimelike \u001b[38;5;129;01mand\u001b[39;00m mask \u001b[38;5;129;01mis\u001b[39;00m \u001b[38;5;28;01mNone\u001b[39;00m:\n\u001b[1;32m    416\u001b[0m     mask \u001b[38;5;241m=\u001b[39m isna(values)\n\u001b[0;32m--> 418\u001b[0m result \u001b[38;5;241m=\u001b[39m \u001b[43mfunc\u001b[49m\u001b[43m(\u001b[49m\u001b[43mvalues\u001b[49m\u001b[43m,\u001b[49m\u001b[43m \u001b[49m\u001b[43maxis\u001b[49m\u001b[38;5;241;43m=\u001b[39;49m\u001b[43maxis\u001b[49m\u001b[43m,\u001b[49m\u001b[43m \u001b[49m\u001b[43mskipna\u001b[49m\u001b[38;5;241;43m=\u001b[39;49m\u001b[43mskipna\u001b[49m\u001b[43m,\u001b[49m\u001b[43m \u001b[49m\u001b[43mmask\u001b[49m\u001b[38;5;241;43m=\u001b[39;49m\u001b[43mmask\u001b[49m\u001b[43m,\u001b[49m\u001b[43m \u001b[49m\u001b[38;5;241;43m*\u001b[39;49m\u001b[38;5;241;43m*\u001b[39;49m\u001b[43mkwargs\u001b[49m\u001b[43m)\u001b[49m\n\u001b[1;32m    420\u001b[0m \u001b[38;5;28;01mif\u001b[39;00m datetimelike:\n\u001b[1;32m    421\u001b[0m     result \u001b[38;5;241m=\u001b[39m _wrap_results(result, orig_values\u001b[38;5;241m.\u001b[39mdtype, fill_value\u001b[38;5;241m=\u001b[39miNaT)\n",
      "File \u001b[0;32m/opt/conda/lib/python3.10/site-packages/pandas/core/nanops.py:706\u001b[0m, in \u001b[0;36mnanmean\u001b[0;34m(values, axis, skipna, mask)\u001b[0m\n\u001b[1;32m    703\u001b[0m     dtype_count \u001b[38;5;241m=\u001b[39m dtype\n\u001b[1;32m    705\u001b[0m count \u001b[38;5;241m=\u001b[39m _get_counts(values\u001b[38;5;241m.\u001b[39mshape, mask, axis, dtype\u001b[38;5;241m=\u001b[39mdtype_count)\n\u001b[0;32m--> 706\u001b[0m the_sum \u001b[38;5;241m=\u001b[39m _ensure_numeric(\u001b[43mvalues\u001b[49m\u001b[38;5;241;43m.\u001b[39;49m\u001b[43msum\u001b[49m\u001b[43m(\u001b[49m\u001b[43maxis\u001b[49m\u001b[43m,\u001b[49m\u001b[43m \u001b[49m\u001b[43mdtype\u001b[49m\u001b[38;5;241;43m=\u001b[39;49m\u001b[43mdtype_sum\u001b[49m\u001b[43m)\u001b[49m)\n\u001b[1;32m    708\u001b[0m \u001b[38;5;28;01mif\u001b[39;00m axis \u001b[38;5;129;01mis\u001b[39;00m \u001b[38;5;129;01mnot\u001b[39;00m \u001b[38;5;28;01mNone\u001b[39;00m \u001b[38;5;129;01mand\u001b[39;00m \u001b[38;5;28mgetattr\u001b[39m(the_sum, \u001b[38;5;124m\"\u001b[39m\u001b[38;5;124mndim\u001b[39m\u001b[38;5;124m\"\u001b[39m, \u001b[38;5;28;01mFalse\u001b[39;00m):\n\u001b[1;32m    709\u001b[0m     count \u001b[38;5;241m=\u001b[39m cast(np\u001b[38;5;241m.\u001b[39mndarray, count)\n",
      "File \u001b[0;32m/opt/conda/lib/python3.10/site-packages/numpy/core/_methods.py:48\u001b[0m, in \u001b[0;36m_sum\u001b[0;34m(a, axis, dtype, out, keepdims, initial, where)\u001b[0m\n\u001b[1;32m     46\u001b[0m \u001b[38;5;28;01mdef\u001b[39;00m \u001b[38;5;21m_sum\u001b[39m(a, axis\u001b[38;5;241m=\u001b[39m\u001b[38;5;28;01mNone\u001b[39;00m, dtype\u001b[38;5;241m=\u001b[39m\u001b[38;5;28;01mNone\u001b[39;00m, out\u001b[38;5;241m=\u001b[39m\u001b[38;5;28;01mNone\u001b[39;00m, keepdims\u001b[38;5;241m=\u001b[39m\u001b[38;5;28;01mFalse\u001b[39;00m,\n\u001b[1;32m     47\u001b[0m          initial\u001b[38;5;241m=\u001b[39m_NoValue, where\u001b[38;5;241m=\u001b[39m\u001b[38;5;28;01mTrue\u001b[39;00m):\n\u001b[0;32m---> 48\u001b[0m     \u001b[38;5;28;01mreturn\u001b[39;00m \u001b[43mumr_sum\u001b[49m\u001b[43m(\u001b[49m\u001b[43ma\u001b[49m\u001b[43m,\u001b[49m\u001b[43m \u001b[49m\u001b[43maxis\u001b[49m\u001b[43m,\u001b[49m\u001b[43m \u001b[49m\u001b[43mdtype\u001b[49m\u001b[43m,\u001b[49m\u001b[43m \u001b[49m\u001b[43mout\u001b[49m\u001b[43m,\u001b[49m\u001b[43m \u001b[49m\u001b[43mkeepdims\u001b[49m\u001b[43m,\u001b[49m\u001b[43m \u001b[49m\u001b[43minitial\u001b[49m\u001b[43m,\u001b[49m\u001b[43m \u001b[49m\u001b[43mwhere\u001b[49m\u001b[43m)\u001b[49m\n",
      "\u001b[0;31mTypeError\u001b[0m: unsupported operand type(s) for +: 'float' and 'str'"
     ]
    }
   ],
   "source": [
    "df1['column_2'].mean()"
   ]
  },
  {
   "cell_type": "markdown",
   "id": "7e8a0c2b-c81e-462d-9b16-6089d3553081",
   "metadata": {},
   "source": [
    "\"\"\"\n",
    " Calculating the mean of a column containig non-numeric data will result \n",
    " in NaN values in the mean.\n",
    " \n",
    "\"\"\""
   ]
  },
  {
   "cell_type": "markdown",
   "id": "bf336352-e82d-4943-9684-ddf669e4003f",
   "metadata": {},
   "source": [
    "# Q6."
   ]
  },
  {
   "cell_type": "markdown",
   "id": "35c8070e-3b77-4ae2-8fa9-b72b8e55b57e",
   "metadata": {},
   "source": [
    "\"\"\"\n",
    "Window functions are used for performing calculations on a specified subset of data called a \"window\" that moves or rolls through the data.\n",
    "\n",
    " - rolling()\n",
    " - expanding()\n",
    " - ewm()\n",
    " \n",
    "\"\"\""
   ]
  },
  {
   "cell_type": "markdown",
   "id": "1cb9904d-89e3-4534-a6a3-4a6054b6e93c",
   "metadata": {},
   "source": [
    "# Q7."
   ]
  },
  {
   "cell_type": "code",
   "execution_count": 32,
   "id": "d07b6890-def2-4720-8c08-3cd6f7fd49d1",
   "metadata": {},
   "outputs": [
    {
     "data": {
      "text/plain": [
       "Timestamp('2023-11-14 14:51:52.853474')"
      ]
     },
     "execution_count": 32,
     "metadata": {},
     "output_type": "execute_result"
    }
   ],
   "source": [
    "from datetime import datetime\n",
    "current_dt_time = datetime.now()\n",
    "\n",
    "pd.to_datetime(current_dt_time)"
   ]
  },
  {
   "cell_type": "markdown",
   "id": "56d538b9-90a0-4a6f-a413-1660376bee94",
   "metadata": {},
   "source": [
    "# Q8."
   ]
  },
  {
   "cell_type": "code",
   "execution_count": 41,
   "id": "24dc85cb-75d8-4677-a38c-0cad42b3f954",
   "metadata": {},
   "outputs": [
    {
     "name": "stdin",
     "output_type": "stream",
     "text": [
      "Enter the start date :  2022-01-02\n",
      "Enter the end date :  2023-01-01\n"
     ]
    },
    {
     "name": "stdout",
     "output_type": "stream",
     "text": [
      " Time difference : 364 days, 0 hours , (0, 0) minutes.\n"
     ]
    }
   ],
   "source": [
    "def cal_time(start_date,end_date):\n",
    "    start_datetime = pd.to_datetime(start_date)\n",
    "    end_datetime = pd.to_datetime(end_date)\n",
    "    \n",
    "    time_diff = end_datetime - start_datetime\n",
    "    \n",
    "    days = time_diff.days\n",
    "    hours,remainder = divmod(time_diff.seconds,3600)\n",
    "    minutes = divmod(remainder,60)\n",
    "    return days , hours , minutes\n",
    "\n",
    "s_date_input = input(\"Enter the start date : \")\n",
    "e_date_input = input(\"Enter the end date : \")\n",
    "\n",
    "days_diff , hours_diff , minutes_diff = cal_time(s_date_input,e_date_input)\n",
    "print(f\" Time difference : {days_diff} days, {hours_diff} hours , {minutes_diff} minutes.\")"
   ]
  },
  {
   "cell_type": "markdown",
   "id": "06d2a1fc-cae7-4505-a512-13ba8a39f9f7",
   "metadata": {},
   "source": [
    "# Q9."
   ]
  },
  {
   "cell_type": "code",
   "execution_count": 3,
   "id": "363f5f13-4e7f-45a5-9eca-eae3e4e27fe4",
   "metadata": {},
   "outputs": [
    {
     "name": "stdin",
     "output_type": "stream",
     "text": [
      "Enter the CSV file path:  services.csv\n",
      "Enter the column name to convert to categorical:  id\n",
      "Enter the category order (comma-separated):  3\n"
     ]
    },
    {
     "name": "stdout",
     "output_type": "stream",
     "text": [
      "\n",
      "Sorted Data:\n",
      "     id  location_id  program_id         accepted_payments  \\\n",
      "0   NaN            1         NaN                       NaN   \n",
      "1   NaN            2         NaN                       NaN   \n",
      "2   NaN            3         NaN                       NaN   \n",
      "3   NaN            4         NaN                       NaN   \n",
      "4   NaN            5         NaN                       NaN   \n",
      "5   NaN            6         NaN                       NaN   \n",
      "6   NaN            7         NaN                       NaN   \n",
      "7   NaN            8         NaN                       NaN   \n",
      "8   NaN            9         NaN                       NaN   \n",
      "9   NaN           10         NaN                       NaN   \n",
      "10  NaN           11         NaN                       NaN   \n",
      "11  NaN           12         NaN                       NaN   \n",
      "12  NaN           13         NaN                       NaN   \n",
      "13  NaN           14         NaN                       NaN   \n",
      "14  NaN           15         NaN                       NaN   \n",
      "15  NaN           16         NaN                       NaN   \n",
      "16  NaN           17         NaN                       NaN   \n",
      "17  NaN           18         NaN                       NaN   \n",
      "18  NaN           19         NaN                       NaN   \n",
      "19  NaN           20         NaN                       NaN   \n",
      "20  NaN           21         NaN                       NaN   \n",
      "21  NaN           22         NaN  Cash, Check, Credit Card   \n",
      "22  NaN           22         NaN                       NaN   \n",
      "\n",
      "           alternate_name                                application_process  \\\n",
      "0                     NaN                         Walk in or apply by phone.   \n",
      "1                     NaN                 Apply by phone for an appointment.   \n",
      "2                     NaN        Phone for information (403-4300 Ext. 4322).   \n",
      "3                     NaN                                    Apply by phone.   \n",
      "4                     NaN                             Phone for information.   \n",
      "5                     NaN  Walk in or apply by phone for membership appli...   \n",
      "6                     NaN  Apply by phone or be referred by a doctor, soc...   \n",
      "7                     NaN                                    Apply by phone.   \n",
      "8                     NaN  Walk in. Proof of residency in California requ...   \n",
      "9                     NaN  Walk in. Proof of California residency to rece...   \n",
      "10                    NaN  Walk in. Proof of California residency require...   \n",
      "11                    NaN  Walk in or apply by phone, email or webpage re...   \n",
      "12                    NaN  Walk in. Proof of California residency require...   \n",
      "13                    NaN  Call for appointment. Referral from human serv...   \n",
      "14                    NaN          Walk in or through other agency referral.   \n",
      "15                    NaN  Walk in. Written application, identification r...   \n",
      "16                    NaN                              Call for information.   \n",
      "17                    NaN  Call for screening appointment. Medical visits...   \n",
      "18                    NaN     Call for screening appointment (650-347-3648).   \n",
      "19                    NaN                                           Walk in.   \n",
      "20                    NaN                    By phone during business hours.   \n",
      "21  Fotos para pasaportes                  Walk in or apply by phone or mail   \n",
      "22                    NaN                  Walk in or apply by phone or mail   \n",
      "\n",
      "                                             audience  \\\n",
      "0   Older adults age 55 or over, ethnic minorities...   \n",
      "1        Residents of San Mateo County age 55 or over   \n",
      "2   Older adults age 55 or over who can benefit fr...   \n",
      "3   Parents, children, families with problems of c...   \n",
      "4   Low-income working families with children tran...   \n",
      "5                                             Any age   \n",
      "6   Older adults who have memory or sensory loss, ...   \n",
      "7   Senior citizens age 60 or over, disabled indiv...   \n",
      "8      Ethnic minorities, especially Spanish speaking   \n",
      "9                                                 NaN   \n",
      "10                                                NaN   \n",
      "11  Adults, parents, children in 1st-12th grades i...   \n",
      "12                                                NaN   \n",
      "13  Individuals or families with low or no income ...   \n",
      "14  Adult alcoholic/drug addictive men and women w...   \n",
      "15                                                NaN   \n",
      "16                                                NaN   \n",
      "17                                                NaN   \n",
      "18                                                NaN   \n",
      "19                                                NaN   \n",
      "20                                                NaN   \n",
      "21  Profit and nonprofit businesses, the public, m...   \n",
      "22  Second service and nonprofit businesses, the p...   \n",
      "\n",
      "                                          description  \\\n",
      "0   A walk-in center for older adults that provide...   \n",
      "1   Provides training and job placement to eligibl...   \n",
      "2   Offers supportive counseling services to San M...   \n",
      "3   Provides supervised visitation services and a ...   \n",
      "4   Provides fixed 8% short term loans to eligible...   \n",
      "5   A multipurpose center offering a wide variety ...   \n",
      "6   Rosener House is a day center for older adults...   \n",
      "7   Delivers a hot meal to the home of persons age...   \n",
      "8   Provides general reading material, including b...   \n",
      "9   Provides general reading and media materials, ...   \n",
      "10  Provides general reading materials, including ...   \n",
      "11  Offers an intergenerational literacy program f...   \n",
      "12  Provides general reading materials, including ...   \n",
      "13  Provides food, clothing, bus tokens and shelte...   \n",
      "14  Provides a long-term (6-12 month) residential ...   \n",
      "15  Provides emergency assistance including food a...   \n",
      "16  Provides emergency food, clothing and furnitur...   \n",
      "17  By appointment only, Project Smile provides a ...   \n",
      "18  Provides free medical and dental care to those...   \n",
      "19              no unrequired fields for this service   \n",
      "20                                just a test service   \n",
      "21  [NOTE THIS IS NOT A REAL SERVICE--THIS IS FOR ...   \n",
      "22  [NOTE THIS IS NOT A REAL ORGANIZATION--THIS IS...   \n",
      "\n",
      "                                          eligibility                  email  \\\n",
      "0   Age 55 or over for most programs, age 60 or ov...                    NaN   \n",
      "1   Age 55 or over, county resident and willing an...                    NaN   \n",
      "2         Resident of San Mateo County age 55 or over                    NaN   \n",
      "3                                                None                    NaN   \n",
      "4   Eligibility: Low-income family with legal cust...                    NaN   \n",
      "5                                                None                    NaN   \n",
      "6                                      Age 18 or over                    NaN   \n",
      "7             Homebound person unable to cook or shop                    NaN   \n",
      "8     Resident of California to obtain a library card                    NaN   \n",
      "9             Resident of California to obtain a card                    NaN   \n",
      "10  Resident of California to obtain a library car...                    NaN   \n",
      "11  English-speaking adult reading at or below 7th...                    NaN   \n",
      "12    Resident of California to obtain a library card                    NaN   \n",
      "13  None for most services. For emergency assistan...                    NaN   \n",
      "14  Age 21-60, detoxed, physically able and willin...                    NaN   \n",
      "15                      None for emergency assistance                    NaN   \n",
      "16                                Low-income families                    NaN   \n",
      "17    Low-income person without access to health care                    NaN   \n",
      "18    Low-income person without access to health care                    NaN   \n",
      "19                                                NaN                    NaN   \n",
      "20                                                NaN                    NaN   \n",
      "21                                               None  passports@example.org   \n",
      "22                                               None                    NaN   \n",
      "\n",
      "    ...                            interpretation_services  \\\n",
      "0   ...                                                NaN   \n",
      "1   ...                                                NaN   \n",
      "2   ...                                                NaN   \n",
      "3   ...                                                NaN   \n",
      "4   ...                                                NaN   \n",
      "5   ...                                                NaN   \n",
      "6   ...                                                NaN   \n",
      "7   ...                                                NaN   \n",
      "8   ...                                                NaN   \n",
      "9   ...                                                NaN   \n",
      "10  ...                                                NaN   \n",
      "11  ...                                                NaN   \n",
      "12  ...                                                NaN   \n",
      "13  ...                                                NaN   \n",
      "14  ...                                                NaN   \n",
      "15  ...                                                NaN   \n",
      "16  ...                                                NaN   \n",
      "17  ...                                                NaN   \n",
      "18  ...                                                NaN   \n",
      "19  ...                                                NaN   \n",
      "20  ...                                                NaN   \n",
      "21  ...  We offer 3-way interpretation services over th...   \n",
      "22  ...                                                NaN   \n",
      "\n",
      "                                             keywords languages  \\\n",
      "0   ADULT PROTECTION AND CARE SERVICES, Meal Sites...       NaN   \n",
      "1   EMPLOYMENT/TRAINING SERVICES, Job Development,...       NaN   \n",
      "2   Geriatric Counseling, Older Adults, Gay, Lesbi...       NaN   \n",
      "3   INDIVIDUAL AND FAMILY DEVELOPMENT SERVICES, Gr...       NaN   \n",
      "4      COMMUNITY SERVICES, Speakers, Automobile Loans       NaN   \n",
      "5   ADULT PROTECTION AND CARE SERVICES, In-Home Su...       NaN   \n",
      "6   ADULT PROTECTION AND CARE SERVICES, Adult Day ...       NaN   \n",
      "7   ADULT PROTECTION AND CARE SERVICES, Meal Sites...       NaN   \n",
      "8   EDUCATION SERVICES, Library, Libraries, Public...       NaN   \n",
      "9   EDUCATION SERVICES, Library, Libraries, Public...       NaN   \n",
      "10  EDUCATION SERVICES, Library, Libraries, Public...       NaN   \n",
      "11  EDUCATION SERVICES, Adult, Alternative, Litera...       NaN   \n",
      "12  EDUCATION SERVICES, Library, Libraries, Public...       NaN   \n",
      "13  COMMUNITY SERVICES, Interpretation/Translation...       NaN   \n",
      "14  ALCOHOLISM SERVICES, Residential Care, DRUG AB...       NaN   \n",
      "15  COMMODITY SERVICES, Clothing/Personal Items, C...       NaN   \n",
      "16  COMMODITY SERVICES, Clothing/Personal Items, C...       NaN   \n",
      "17  HEALTH SERVICES, Outpatient Care, Community Cl...       NaN   \n",
      "18  HEALTH SERVICES, Outpatient Care, Community Cl...       NaN   \n",
      "19                                                NaN       NaN   \n",
      "20                                                NaN       NaN   \n",
      "21                                    Salud, Medicina   Spanish   \n",
      "22         Ruby on Rails/Postgres/Redis, testing, wic       NaN   \n",
      "\n",
      "                                    name  \\\n",
      "0        Fair Oaks Adult Activity Center   \n",
      "1       Second Career Employment Program   \n",
      "2                 Senior Peer Counseling   \n",
      "3               Family Visitation Center   \n",
      "4      Economic Self-Sufficiency Program   \n",
      "5   Little House Recreational Activities   \n",
      "6       Rosener House Adult Day Services   \n",
      "7         Meals on Wheels - South County   \n",
      "8                       Fair Oaks Branch   \n",
      "9                           Main Library   \n",
      "10                       Schaberg Branch   \n",
      "11                          Project Read   \n",
      "12                 Redwood Shores Branch   \n",
      "13                    Redwood City Corps   \n",
      "14           Adult Rehabilitation Center   \n",
      "15                       Sunnyvale Corps   \n",
      "16     South San Francisco Citadel Corps   \n",
      "17                         Project Smile   \n",
      "18         San Mateo Free Medical Clinic   \n",
      "19             Service with blank fields   \n",
      "20       Service for Admin Test Location   \n",
      "21                       Passport Photos   \n",
      "22                  Example Service Name   \n",
      "\n",
      "                          required_documents  \\\n",
      "0                                        NaN   \n",
      "1                                        NaN   \n",
      "2                                        NaN   \n",
      "3                                        NaN   \n",
      "4                                        NaN   \n",
      "5                                        NaN   \n",
      "6                                        NaN   \n",
      "7                                        NaN   \n",
      "8                                        NaN   \n",
      "9                                        NaN   \n",
      "10                                       NaN   \n",
      "11                                       NaN   \n",
      "12                                       NaN   \n",
      "13                                       NaN   \n",
      "14                                       NaN   \n",
      "15                                       NaN   \n",
      "16                                       NaN   \n",
      "17                                       NaN   \n",
      "18                                       NaN   \n",
      "19                                       NaN   \n",
      "20                                       NaN   \n",
      "21  Government-issued picture identification   \n",
      "22                                       NaN   \n",
      "\n",
      "                            service_areas    status  \\\n",
      "0                                   Colma    active   \n",
      "1                        San Mateo County    active   \n",
      "2                        San Mateo County    active   \n",
      "3                        San Mateo County    active   \n",
      "4                        San Mateo County    active   \n",
      "5                        San Mateo County    active   \n",
      "6     Belmont, Burlingame, East Palo Alto    active   \n",
      "7                 Belmont, East Palo Alto    active   \n",
      "8                        San Mateo County    active   \n",
      "9                        San Mateo County    active   \n",
      "10                       San Mateo County    active   \n",
      "11                              Daly City    active   \n",
      "12                       San Mateo County    active   \n",
      "13    Belmont, Burlingame, East Palo Alto    active   \n",
      "14       Alameda County, San Mateo County    active   \n",
      "15                                    NaN    active   \n",
      "16  Colma, Daly City, South San Francisco    active   \n",
      "17                         East Palo Alto    active   \n",
      "18                    Belmont, Burlingame    active   \n",
      "19                                    NaN   defunct   \n",
      "20                       San Mateo County  inactive   \n",
      "21       Alameda County, San Mateo County    active   \n",
      "22       San Mateo County, Alameda County    active   \n",
      "\n",
      "                                            wait_time                 website  \\\n",
      "0                                            No wait.                     NaN   \n",
      "1                                             Varies.                     NaN   \n",
      "2                                             Varies.                     NaN   \n",
      "3                                            No wait.                     NaN   \n",
      "4                                                 NaN                     NaN   \n",
      "5                                            No wait.                     NaN   \n",
      "6                                            No wait.                     NaN   \n",
      "7                                            No wait.                     NaN   \n",
      "8                                            No wait.                     NaN   \n",
      "9                                            No wait.                     NaN   \n",
      "10                                           No wait.                     NaN   \n",
      "11  Depends on availability of tutors for small gr...                     NaN   \n",
      "12                                           No wait.                     NaN   \n",
      "13                                  Up to 20 minutes.                     NaN   \n",
      "14  Varies according to available beds for men and...                     NaN   \n",
      "15                                           No wait.                     NaN   \n",
      "16                                                NaN                     NaN   \n",
      "17                                            Varies.                     NaN   \n",
      "18                                            Varies.                     NaN   \n",
      "19                                                NaN                     NaN   \n",
      "20                                                NaN                     NaN   \n",
      "21                                No wait to 2 weeks.  http://www.example.com   \n",
      "22                                 No wait to 2 weeks  http://www.example.com   \n",
      "\n",
      "                                taxonomy_ids  \n",
      "0                                        NaN  \n",
      "1                                        NaN  \n",
      "2                                        NaN  \n",
      "3                                        NaN  \n",
      "4                                        NaN  \n",
      "5                                        NaN  \n",
      "6                                        NaN  \n",
      "7                                        NaN  \n",
      "8                                        NaN  \n",
      "9                                        NaN  \n",
      "10                                       NaN  \n",
      "11                                       NaN  \n",
      "12                                       NaN  \n",
      "13                                       NaN  \n",
      "14                                       NaN  \n",
      "15                                       NaN  \n",
      "16                                       NaN  \n",
      "17                                       NaN  \n",
      "18                                       NaN  \n",
      "19                                       NaN  \n",
      "20                                       NaN  \n",
      "21  105, 108, 108-05, 108-05-01, 111, 111-05  \n",
      "22                                       NaN  \n",
      "\n",
      "[23 rows x 22 columns]\n"
     ]
    }
   ],
   "source": [
    "def convert_and_display_categorical(file_path, column_name, category_order):\n",
    "        df = pd.read_csv(file_path)\n",
    "\n",
    "        df[column_name] = pd.Categorical(df[column_name], categories=category_order, ordered=True)\n",
    "\n",
    "        sorted_data = df.sort_values(by=column_name)\n",
    "        print(\"\\nSorted Data:\")\n",
    "        print(sorted_data)\n",
    "\n",
    "file_path_input = input(\"Enter the CSV file path: \")\n",
    "column_name_input = input(\"Enter the column name to convert to categorical: \")\n",
    "\n",
    "category_order_input = input(\"Enter the category order (comma-separated): \")\n",
    "category_order = category_order_input.split(',')\n",
    "\n",
    "convert_and_display_categorical(file_path_input, column_name_input, category_order)"
   ]
  },
  {
   "cell_type": "markdown",
   "id": "2b1b68c1-4677-456b-980e-afe9aeed31e8",
   "metadata": {},
   "source": [
    "# Q10."
   ]
  },
  {
   "cell_type": "code",
   "execution_count": null,
   "id": "c8b3fef4-28ad-4d8d-9808-8cde7b8d99f4",
   "metadata": {},
   "outputs": [],
   "source": [
    "import matplotlib.pyplot as plt\n",
    "\n",
    "file_path_input = input(\"Enter the CSV file path containing sales data: \")\n",
    "df = pd.read_csv(file_path_input)\n",
    "\n",
    "pivot_df = df.pivot(index='Date', columns='Product Category', values='Sales')\n",
    "\n",
    "pivot_df.plot(kind='bar', stacked=True, figsize=(10, 6))\n",
    "\n",
    "plt.title('Sales Data by Product Category Over Time')\n",
    "plt.xlabel('Date')\n",
    "plt.ylabel('Sales')\n",
    "plt.legend(title='Product Category')\n",
    "\n",
    "\n",
    "plt.show()"
   ]
  },
  {
   "cell_type": "markdown",
   "id": "22985a16-0733-42da-b535-ceb5edc8b03d",
   "metadata": {},
   "source": [
    "# Q11."
   ]
  },
  {
   "cell_type": "code",
   "execution_count": 4,
   "id": "65ea0c2a-41d2-4cd0-a905-f8b5dfc83281",
   "metadata": {},
   "outputs": [
    {
     "name": "stdout",
     "output_type": "stream",
     "text": [
      "Collecting tabulate\n",
      "  Downloading tabulate-0.9.0-py3-none-any.whl (35 kB)\n",
      "Installing collected packages: tabulate\n",
      "Successfully installed tabulate-0.9.0\n",
      "Note: you may need to restart the kernel to use updated packages.\n"
     ]
    }
   ],
   "source": [
    "pip install tabulate"
   ]
  },
  {
   "cell_type": "code",
   "execution_count": null,
   "id": "24e61826-507c-40b8-8915-b244a540f1c8",
   "metadata": {},
   "outputs": [],
   "source": [
    "from tabulate import tabulate  \n",
    "file_path = input(\"Enter the file path of the CSV file containing student data: \")\n",
    "\n",
    "df = pd.read_csv(file_path)\n",
    "\n",
    " \n",
    "mean_score = df['Test Score'].mean()\n",
    "median_score = df['Test Score'].median()\n",
    "mode_scores = df['Test Score'].mode()\n",
    "\n",
    "  \n",
    "result_table = pd.DataFrame({\n",
    "    'Statistic': ['Mean', 'Median', 'Mode'],\n",
    "    'Value': [mean_score, median_score, ', '.join(map(str, mode_scores))]\n",
    "})\n",
    "\n",
    "print(\"\\n\" + tabulate(result_table, headers='keys', tablefmt='fancy_grid', showindex=False))"
   ]
  }
 ],
 "metadata": {
  "kernelspec": {
   "display_name": "Python 3 (ipykernel)",
   "language": "python",
   "name": "python3"
  },
  "language_info": {
   "codemirror_mode": {
    "name": "ipython",
    "version": 3
   },
   "file_extension": ".py",
   "mimetype": "text/x-python",
   "name": "python",
   "nbconvert_exporter": "python",
   "pygments_lexer": "ipython3",
   "version": "3.10.8"
  }
 },
 "nbformat": 4,
 "nbformat_minor": 5
}
